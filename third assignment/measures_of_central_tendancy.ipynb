{
 "cells": [
  {
   "cell_type": "markdown",
   "metadata": {},
   "source": [
    "Discriptive statistics(measuress of central tendancy)\n",
    "Q1. Provide summary statistics (mean, median, minimum, maximum, standard deviation) for a\n"
    "dataset (age, income etc.) with numeric variables grouped by one of the qualitative\n",
    "(categorical) variable. For example, if your categorical variable is age groups and quantitative\n",
    "variable is income, then provide summary statistics of income grouped by the age groups.\n",
    "Create a list that contains a numeric value for each response to the categorical variable"
   ]
  },
  {
   "cell_type": "code",
   "execution_count": 19,
   "metadata": {},
   "outputs": [],
   "source": [
    "import pandas as pd\n",
    "import numpy as np"
   ]
  },
  {
   "cell_type": "code",
   "execution_count": 20,
   "metadata": {},
   "outputs": [],
   "source": [
    "data= pd.read_csv(\"Employee.csv\")"
   ]
  },
  {
   "cell_type": "code",
   "execution_count": 21,
   "metadata": {},
   "outputs": [
    {
     "data": {
      "text/html": [
       "<div>\n",
       "<style scoped>\n",
       "    .dataframe tbody tr th:only-of-type {\n",
       "        vertical-align: middle;\n",
       "    }\n",
       "\n",
       "    .dataframe tbody tr th {\n",
       "        vertical-align: top;\n",
       "    }\n",
       "\n",
       "    .dataframe thead th {\n",
       "        text-align: right;\n",
       "    }\n",
       "</style>\n",
       "<table border=\"1\" class=\"dataframe\">\n",
       "  <thead>\n",
       "    <tr style=\"text-align: right;\">\n",
       "      <th></th>\n",
       "      <th>Education</th>\n",
       "      <th>JoiningYear</th>\n",
       "      <th>City</th>\n",
       "      <th>PaymentTier</th>\n",
       "      <th>Age</th>\n",
       "      <th>Gender</th>\n",
       "      <th>EverBenched</th>\n",
       "      <th>ExperienceInCurrentDomain</th>\n",
       "      <th>LeaveOrNot</th>\n",
       "    </tr>\n",
       "  </thead>\n",
       "  <tbody>\n",
       "    <tr>\n",
       "      <th>0</th>\n",
       "      <td>Bachelors</td>\n",
       "      <td>2017</td>\n",
       "      <td>Bangalore</td>\n",
       "      <td>3</td>\n",
       "      <td>34</td>\n",
       "      <td>Male</td>\n",
       "      <td>No</td>\n",
       "      <td>0</td>\n",
       "      <td>0</td>\n",
       "    </tr>\n",
       "    <tr>\n",
       "      <th>1</th>\n",
       "      <td>Bachelors</td>\n",
       "      <td>2013</td>\n",
       "      <td>Pune</td>\n",
       "      <td>1</td>\n",
       "      <td>28</td>\n",
       "      <td>Female</td>\n",
       "      <td>No</td>\n",
       "      <td>3</td>\n",
       "      <td>1</td>\n",
       "    </tr>\n",
       "    <tr>\n",
       "      <th>2</th>\n",
       "      <td>Bachelors</td>\n",
       "      <td>2014</td>\n",
       "      <td>New Delhi</td>\n",
       "      <td>3</td>\n",
       "      <td>38</td>\n",
       "      <td>Female</td>\n",
       "      <td>No</td>\n",
       "      <td>2</td>\n",
       "      <td>0</td>\n",
       "    </tr>\n",
       "    <tr>\n",
       "      <th>3</th>\n",
       "      <td>Masters</td>\n",
       "      <td>2016</td>\n",
       "      <td>Bangalore</td>\n",
       "      <td>3</td>\n",
       "      <td>27</td>\n",
       "      <td>Male</td>\n",
       "      <td>No</td>\n",
       "      <td>5</td>\n",
       "      <td>1</td>\n",
       "    </tr>\n",
       "    <tr>\n",
       "      <th>4</th>\n",
       "      <td>Masters</td>\n",
       "      <td>2017</td>\n",
       "      <td>Pune</td>\n",
       "      <td>3</td>\n",
       "      <td>24</td>\n",
       "      <td>Male</td>\n",
       "      <td>Yes</td>\n",
       "      <td>2</td>\n",
       "      <td>1</td>\n",
       "    </tr>\n",
       "    <tr>\n",
       "      <th>...</th>\n",
       "      <td>...</td>\n",
       "      <td>...</td>\n",
       "      <td>...</td>\n",
       "      <td>...</td>\n",
       "      <td>...</td>\n",
       "      <td>...</td>\n",
       "      <td>...</td>\n",
       "      <td>...</td>\n",
       "      <td>...</td>\n",
       "    </tr>\n",
       "    <tr>\n",
       "      <th>4648</th>\n",
       "      <td>Bachelors</td>\n",
       "      <td>2013</td>\n",
       "      <td>Bangalore</td>\n",
       "      <td>3</td>\n",
       "      <td>26</td>\n",
       "      <td>Female</td>\n",
       "      <td>No</td>\n",
       "      <td>4</td>\n",
       "      <td>0</td>\n",
       "    </tr>\n",
       "    <tr>\n",
       "      <th>4649</th>\n",
       "      <td>Masters</td>\n",
       "      <td>2013</td>\n",
       "      <td>Pune</td>\n",
       "      <td>2</td>\n",
       "      <td>37</td>\n",
       "      <td>Male</td>\n",
       "      <td>No</td>\n",
       "      <td>2</td>\n",
       "      <td>1</td>\n",
       "    </tr>\n",
       "    <tr>\n",
       "      <th>4650</th>\n",
       "      <td>Masters</td>\n",
       "      <td>2018</td>\n",
       "      <td>New Delhi</td>\n",
       "      <td>3</td>\n",
       "      <td>27</td>\n",
       "      <td>Male</td>\n",
       "      <td>No</td>\n",
       "      <td>5</td>\n",
       "      <td>1</td>\n",
       "    </tr>\n",
       "    <tr>\n",
       "      <th>4651</th>\n",
       "      <td>Bachelors</td>\n",
       "      <td>2012</td>\n",
       "      <td>Bangalore</td>\n",
       "      <td>3</td>\n",
       "      <td>30</td>\n",
       "      <td>Male</td>\n",
       "      <td>Yes</td>\n",
       "      <td>2</td>\n",
       "      <td>0</td>\n",
       "    </tr>\n",
       "    <tr>\n",
       "      <th>4652</th>\n",
       "      <td>Bachelors</td>\n",
       "      <td>2015</td>\n",
       "      <td>Bangalore</td>\n",
       "      <td>3</td>\n",
       "      <td>33</td>\n",
       "      <td>Male</td>\n",
       "      <td>Yes</td>\n",
       "      <td>4</td>\n",
       "      <td>0</td>\n",
       "    </tr>\n",
       "  </tbody>\n",
       "</table>\n",
       "<p>4653 rows × 9 columns</p>\n",
       "</div>"
      ],
      "text/plain": [
       "      Education  JoiningYear       City  PaymentTier  Age  Gender EverBenched  \\\n",
       "0     Bachelors         2017  Bangalore            3   34    Male          No   \n",
       "1     Bachelors         2013       Pune            1   28  Female          No   \n",
       "2     Bachelors         2014  New Delhi            3   38  Female          No   \n",
       "3       Masters         2016  Bangalore            3   27    Male          No   \n",
       "4       Masters         2017       Pune            3   24    Male         Yes   \n",
       "...         ...          ...        ...          ...  ...     ...         ...   \n",
       "4648  Bachelors         2013  Bangalore            3   26  Female          No   \n",
       "4649    Masters         2013       Pune            2   37    Male          No   \n",
       "4650    Masters         2018  New Delhi            3   27    Male          No   \n",
       "4651  Bachelors         2012  Bangalore            3   30    Male         Yes   \n",
       "4652  Bachelors         2015  Bangalore            3   33    Male         Yes   \n",
       "\n",
       "      ExperienceInCurrentDomain  LeaveOrNot  \n",
       "0                             0           0  \n",
       "1                             3           1  \n",
       "2                             2           0  \n",
       "3                             5           1  \n",
       "4                             2           1  \n",
       "...                         ...         ...  \n",
       "4648                          4           0  \n",
       "4649                          2           1  \n",
       "4650                          5           1  \n",
       "4651                          2           0  \n",
       "4652                          4           0  \n",
       "\n",
       "[4653 rows x 9 columns]"
      ]
     },
     "execution_count": 21,
     "metadata": {},
     "output_type": "execute_result"
    }
   ],
   "source": [
    "data"
   ]
  },
  {
   "cell_type": "code",
   "execution_count": 23,
   "metadata": {},
   "outputs": [
    {
     "data": {
      "text/html": [
       "<div>\n",
       "<style scoped>\n",
       "    .dataframe tbody tr th:only-of-type {\n",
       "        vertical-align: middle;\n",
       "    }\n",
       "\n",
       "    .dataframe tbody tr th {\n",
       "        vertical-align: top;\n",
       "    }\n",
       "\n",
       "    .dataframe thead th {\n",
       "        text-align: right;\n",
       "    }\n",
       "</style>\n",
       "<table border=\"1\" class=\"dataframe\">\n",
       "  <thead>\n",
       "    <tr style=\"text-align: right;\">\n",
       "      <th></th>\n",
       "      <th>Education</th>\n",
       "      <th>JoiningYear</th>\n",
       "      <th>City</th>\n",
       "      <th>PaymentTier</th>\n",
       "      <th>Age</th>\n",
       "      <th>Gender</th>\n",
       "      <th>EverBenched</th>\n",
       "      <th>ExperienceInCurrentDomain</th>\n",
       "      <th>LeaveOrNot</th>\n",
       "    </tr>\n",
       "  </thead>\n",
       "  <tbody>\n",
       "    <tr>\n",
       "      <th>0</th>\n",
       "      <td>Bachelors</td>\n",
       "      <td>2017</td>\n",
       "      <td>Bangalore</td>\n",
       "      <td>3</td>\n",
       "      <td>34</td>\n",
       "      <td>Male</td>\n",
       "      <td>No</td>\n",
       "      <td>0</td>\n",
       "      <td>0</td>\n",
       "    </tr>\n",
       "    <tr>\n",
       "      <th>1</th>\n",
       "      <td>Bachelors</td>\n",
       "      <td>2013</td>\n",
       "      <td>Pune</td>\n",
       "      <td>1</td>\n",
       "      <td>28</td>\n",
       "      <td>Female</td>\n",
       "      <td>No</td>\n",
       "      <td>3</td>\n",
       "      <td>1</td>\n",
       "    </tr>\n",
       "    <tr>\n",
       "      <th>2</th>\n",
       "      <td>Bachelors</td>\n",
       "      <td>2014</td>\n",
       "      <td>New Delhi</td>\n",
       "      <td>3</td>\n",
       "      <td>38</td>\n",
       "      <td>Female</td>\n",
       "      <td>No</td>\n",
       "      <td>2</td>\n",
       "      <td>0</td>\n",
       "    </tr>\n",
       "    <tr>\n",
       "      <th>3</th>\n",
       "      <td>Masters</td>\n",
       "      <td>2016</td>\n",
       "      <td>Bangalore</td>\n",
       "      <td>3</td>\n",
       "      <td>27</td>\n",
       "      <td>Male</td>\n",
       "      <td>No</td>\n",
       "      <td>5</td>\n",
       "      <td>1</td>\n",
       "    </tr>\n",
       "    <tr>\n",
       "      <th>4</th>\n",
       "      <td>Masters</td>\n",
       "      <td>2017</td>\n",
       "      <td>Pune</td>\n",
       "      <td>3</td>\n",
       "      <td>24</td>\n",
       "      <td>Male</td>\n",
       "      <td>Yes</td>\n",
       "      <td>2</td>\n",
       "      <td>1</td>\n",
       "    </tr>\n",
       "  </tbody>\n",
       "</table>\n",
       "</div>"
      ],
      "text/plain": [
       "   Education  JoiningYear       City  PaymentTier  Age  Gender EverBenched  \\\n",
       "0  Bachelors         2017  Bangalore            3   34    Male          No   \n",
       "1  Bachelors         2013       Pune            1   28  Female          No   \n",
       "2  Bachelors         2014  New Delhi            3   38  Female          No   \n",
       "3    Masters         2016  Bangalore            3   27    Male          No   \n",
       "4    Masters         2017       Pune            3   24    Male         Yes   \n",
       "\n",
       "   ExperienceInCurrentDomain  LeaveOrNot  \n",
       "0                          0           0  \n",
       "1                          3           1  \n",
       "2                          2           0  \n",
       "3                          5           1  \n",
       "4                          2           1  "
      ]
     },
     "execution_count": 23,
     "metadata": {},
     "output_type": "execute_result"
    }
   ],
   "source": [
    "data.head()"
   ]
  },
  {
   "cell_type": "code",
   "execution_count": 27,
   "metadata": {},
   "outputs": [
    {
     "data": {
      "text/plain": [
       "29.393294648613796"
      ]
     },
     "execution_count": 27,
     "metadata": {},
     "output_type": "execute_result"
    }
   ],
   "source": [
    "data.loc[:,'Age'].mean()"
   ]
  },
  {
   "cell_type": "code",
   "execution_count": 28,
   "metadata": {},
   "outputs": [
    {
     "data": {
      "text/plain": [
       "30.181818181818183"
      ]
     },
     "execution_count": 28,
     "metadata": {},
     "output_type": "execute_result"
    }
   ],
   "source": [
    "data.loc[0:10,'Age'].mean()"
   ]
  },
  {
   "cell_type": "code",
   "execution_count": 30,
   "metadata": {},
   "outputs": [
    {
     "data": {
      "text/plain": [
       "4.826087009126065"
      ]
     },
     "execution_count": 30,
     "metadata": {},
     "output_type": "execute_result"
    }
   ],
   "source": [
    "data.loc[:,'Age'].std()"
   ]
  },
  {
   "cell_type": "code",
   "execution_count": 31,
   "metadata": {},
   "outputs": [
    {
     "data": {
      "text/plain": [
       "37.96363636363637"
      ]
     },
     "execution_count": 31,
     "metadata": {},
     "output_type": "execute_result"
    }
   ],
   "source": [
    "data.loc[0:10,'Age'].var()"
   ]
  },
  {
   "cell_type": "code",
   "execution_count": 32,
   "metadata": {},
   "outputs": [
    {
     "data": {
      "text/plain": [
       "<bound method Series.mean of 0     34\n",
       "1     28\n",
       "2     38\n",
       "3     27\n",
       "4     24\n",
       "5     22\n",
       "6     38\n",
       "7     34\n",
       "8     23\n",
       "9     37\n",
       "10    27\n",
       "Name: Age, dtype: int64>"
      ]
     },
     "execution_count": 32,
     "metadata": {},
     "output_type": "execute_result"
    }
   ],
   "source": [
    "data.loc[0:10,'Age'].mean"
   ]
  },
  {
   "cell_type": "code",
   "execution_count": 33,
   "metadata": {},
   "outputs": [
    {
     "data": {
      "text/plain": [
       "22"
      ]
     },
     "execution_count": 33,
     "metadata": {},
     "output_type": "execute_result"
    }
   ],
   "source": [
    "data.loc[:,'Age'].min()"
   ]
  },
  {
   "cell_type": "code",
   "execution_count": 34,
   "metadata": {},
   "outputs": [
    {
     "data": {
      "text/plain": [
       "41"
      ]
     },
     "execution_count": 34,
     "metadata": {},
     "output_type": "execute_result"
    }
   ],
   "source": [
    "data.loc[:,'Age'].max()"
   ]
  },
  {
   "cell_type": "code",
   "execution_count": 40,
   "metadata": {},
   "outputs": [],
   "source": [
    "result=data.groupby(['Gender'])['PaymentTier'].mean()"
   ]
  },
  {
   "cell_type": "code",
   "execution_count": 41,
   "metadata": {},
   "outputs": [
    {
     "data": {
      "text/plain": [
       "Gender\n",
       "Female    2.537600\n",
       "Male      2.806695\n",
       "Name: PaymentTier, dtype: float64"
      ]
     },
     "execution_count": 41,
     "metadata": {},
     "output_type": "execute_result"
    }
   ],
   "source": [
    "result"
   ]
  },
  {
   "cell_type": "code",
   "execution_count": 45,
   "metadata": {},
   "outputs": [],
   "source": [
    "result1=data.groupby(['Gender'])['PaymentTier'].median()"
   ]
  },
  {
   "cell_type": "code",
   "execution_count": 46,
   "metadata": {},
   "outputs": [
    {
     "data": {
      "text/plain": [
       "Gender\n",
       "Female    3.0\n",
       "Male      3.0\n",
       "Name: PaymentTier, dtype: float64"
      ]
     },
     "execution_count": 46,
     "metadata": {},
     "output_type": "execute_result"
    }
   ],
   "source": [
    "result1"
   ]
  },
  {
   "cell_type": "markdown",
   "metadata": {},
   "source": [
    "Write a Python program to display some basic statistical details like percentile, mean,\n",
    "standard deviation etc. of the species of ‘Iris-setosa’, ‘Iris-versicolor’ and ‘Iris-versicolor’ of\n",
    "iris.csv dataset."
   ]
  },
  {
   "cell_type": "code",
   "execution_count": 47,
   "metadata": {},
   "outputs": [],
   "source": [
    "import pandas as pd"
   ]
  },
  {
   "cell_type": "code",
   "execution_count": 61,
   "metadata": {},
   "outputs": [],
   "source": [
    "data=pd.read_csv(\"IRIS.csv\")"
   ]
  },
  {
   "cell_type": "code",
   "execution_count": 62,
   "metadata": {},
   "outputs": [
    {
     "data": {
      "text/html": [
       "<div>\n",
       "<style scoped>\n",
       "    .dataframe tbody tr th:only-of-type {\n",
       "        vertical-align: middle;\n",
       "    }\n",
       "\n",
       "    .dataframe tbody tr th {\n",
       "        vertical-align: top;\n",
       "    }\n",
       "\n",
       "    .dataframe thead th {\n",
       "        text-align: right;\n",
       "    }\n",
       "</style>\n",
       "<table border=\"1\" class=\"dataframe\">\n",
       "  <thead>\n",
       "    <tr style=\"text-align: right;\">\n",
       "      <th></th>\n",
       "      <th>sepal_length</th>\n",
       "      <th>sepal_width</th>\n",
       "      <th>petal_length</th>\n",
       "      <th>petal_width</th>\n",
       "      <th>species</th>\n",
       "    </tr>\n",
       "  </thead>\n",
       "  <tbody>\n",
       "    <tr>\n",
       "      <th>0</th>\n",
       "      <td>5.1</td>\n",
       "      <td>3.5</td>\n",
       "      <td>1.4</td>\n",
       "      <td>0.2</td>\n",
       "      <td>Iris-setosa</td>\n",
       "    </tr>\n",
       "    <tr>\n",
       "      <th>1</th>\n",
       "      <td>4.7</td>\n",
       "      <td>3.2</td>\n",
       "      <td>1.3</td>\n",
       "      <td>0.2</td>\n",
       "      <td>Iris-setosa</td>\n",
       "    </tr>\n",
       "    <tr>\n",
       "      <th>2</th>\n",
       "      <td>4.6</td>\n",
       "      <td>3.1</td>\n",
       "      <td>1.5</td>\n",
       "      <td>0.2</td>\n",
       "      <td>Iris-setosa</td>\n",
       "    </tr>\n",
       "    <tr>\n",
       "      <th>3</th>\n",
       "      <td>5.0</td>\n",
       "      <td>3.6</td>\n",
       "      <td>1.4</td>\n",
       "      <td>0.2</td>\n",
       "      <td>Iris-setosa</td>\n",
       "    </tr>\n",
       "    <tr>\n",
       "      <th>4</th>\n",
       "      <td>5.4</td>\n",
       "      <td>3.9</td>\n",
       "      <td>1.7</td>\n",
       "      <td>0.4</td>\n",
       "      <td>Iris-setosa</td>\n",
       "    </tr>\n",
       "    <tr>\n",
       "      <th>...</th>\n",
       "      <td>...</td>\n",
       "      <td>...</td>\n",
       "      <td>...</td>\n",
       "      <td>...</td>\n",
       "      <td>...</td>\n",
       "    </tr>\n",
       "    <tr>\n",
       "      <th>143</th>\n",
       "      <td>6.7</td>\n",
       "      <td>3.0</td>\n",
       "      <td>5.2</td>\n",
       "      <td>2.3</td>\n",
       "      <td>Iris-virginica</td>\n",
       "    </tr>\n",
       "    <tr>\n",
       "      <th>144</th>\n",
       "      <td>6.3</td>\n",
       "      <td>2.5</td>\n",
       "      <td>5.0</td>\n",
       "      <td>1.9</td>\n",
       "      <td>Iris-virginica</td>\n",
       "    </tr>\n",
       "    <tr>\n",
       "      <th>145</th>\n",
       "      <td>6.5</td>\n",
       "      <td>3.0</td>\n",
       "      <td>5.2</td>\n",
       "      <td>2.0</td>\n",
       "      <td>Iris-virginica</td>\n",
       "    </tr>\n",
       "    <tr>\n",
       "      <th>146</th>\n",
       "      <td>6.2</td>\n",
       "      <td>3.4</td>\n",
       "      <td>5.4</td>\n",
       "      <td>2.3</td>\n",
       "      <td>Iris-virginica</td>\n",
       "    </tr>\n",
       "    <tr>\n",
       "      <th>147</th>\n",
       "      <td>5.9</td>\n",
       "      <td>3.0</td>\n",
       "      <td>5.1</td>\n",
       "      <td>1.8</td>\n",
       "      <td>Iris-virginica</td>\n",
       "    </tr>\n",
       "  </tbody>\n",
       "</table>\n",
       "<p>148 rows × 5 columns</p>\n",
       "</div>"
      ],
      "text/plain": [
       "     sepal_length  sepal_width  petal_length  petal_width         species\n",
       "0             5.1          3.5           1.4          0.2     Iris-setosa\n",
       "1             4.7          3.2           1.3          0.2     Iris-setosa\n",
       "2             4.6          3.1           1.5          0.2     Iris-setosa\n",
       "3             5.0          3.6           1.4          0.2     Iris-setosa\n",
       "4             5.4          3.9           1.7          0.4     Iris-setosa\n",
       "..            ...          ...           ...          ...             ...\n",
       "143           6.7          3.0           5.2          2.3  Iris-virginica\n",
       "144           6.3          2.5           5.0          1.9  Iris-virginica\n",
       "145           6.5          3.0           5.2          2.0  Iris-virginica\n",
       "146           6.2          3.4           5.4          2.3  Iris-virginica\n",
       "147           5.9          3.0           5.1          1.8  Iris-virginica\n",
       "\n",
       "[148 rows x 5 columns]"
      ]
     },
     "execution_count": 62,
     "metadata": {},
     "output_type": "execute_result"
    }
   ],
   "source": [
    "data"
   ]
  },
  {
   "cell_type": "code",
   "execution_count": 72,
   "metadata": {},
   "outputs": [],
   "source": [
    "irisset=(data['species']=='Iris-setosa')"
   ]
  },
  {
   "cell_type": "code",
   "execution_count": 73,
   "metadata": {},
   "outputs": [
    {
     "name": "stdout",
     "output_type": "stream",
     "text": [
      "    sepal_length  sepal_width  petal_length  petal_width      species\n",
      "0            5.1          3.5           1.4          0.2  Iris-setosa\n",
      "1            4.7          3.2           1.3          0.2  Iris-setosa\n",
      "2            4.6          3.1           1.5          0.2  Iris-setosa\n",
      "3            5.0          3.6           1.4          0.2  Iris-setosa\n",
      "4            5.4          3.9           1.7          0.4  Iris-setosa\n",
      "5            4.6          3.4           1.4          0.3  Iris-setosa\n",
      "6            4.4          2.9           1.4          0.2  Iris-setosa\n",
      "7            4.9          3.1           1.5          0.1  Iris-setosa\n",
      "8            5.4          3.7           1.5          0.2  Iris-setosa\n",
      "9            4.8          3.4           1.6          0.2  Iris-setosa\n",
      "10           4.8          3.0           1.4          0.1  Iris-setosa\n",
      "11           4.3          3.0           1.1          0.1  Iris-setosa\n",
      "12           5.8          4.0           1.2          0.2  Iris-setosa\n",
      "13           5.7          4.4           1.5          0.4  Iris-setosa\n",
      "14           5.4          3.9           1.3          0.4  Iris-setosa\n",
      "15           5.1          3.5           1.4          0.3  Iris-setosa\n",
      "16           5.7          3.8           1.7          0.3  Iris-setosa\n",
      "17           5.1          3.8           1.5          0.3  Iris-setosa\n",
      "18           5.4          3.4           1.7          0.2  Iris-setosa\n",
      "19           5.1          3.7           1.5          0.4  Iris-setosa\n",
      "20           4.6          3.6           1.0          0.2  Iris-setosa\n",
      "21           5.1          3.3           1.7          0.5  Iris-setosa\n",
      "22           4.8          3.4           1.9          0.2  Iris-setosa\n",
      "23           5.0          3.0           1.6          0.2  Iris-setosa\n",
      "24           5.0          3.4           1.6          0.4  Iris-setosa\n",
      "25           5.2          3.5           1.5          0.2  Iris-setosa\n",
      "26           5.2          3.4           1.4          0.2  Iris-setosa\n",
      "27           4.7          3.2           1.6          0.2  Iris-setosa\n",
      "28           4.8          3.1           1.6          0.2  Iris-setosa\n",
      "29           5.4          3.4           1.5          0.4  Iris-setosa\n",
      "30           5.2          4.1           1.5          0.1  Iris-setosa\n",
      "31           5.5          4.2           1.4          0.2  Iris-setosa\n",
      "32           4.9          3.1           1.5          0.1  Iris-setosa\n",
      "33           5.0          3.2           1.2          0.2  Iris-setosa\n",
      "34           5.5          3.5           1.3          0.2  Iris-setosa\n",
      "35           4.9          3.1           1.5          0.1  Iris-setosa\n",
      "36           4.4          3.0           1.3          0.2  Iris-setosa\n",
      "37           5.1          3.4           1.5          0.2  Iris-setosa\n",
      "38           5.0          3.5           1.3          0.3  Iris-setosa\n",
      "39           4.5          2.3           1.3          0.3  Iris-setosa\n",
      "40           4.4          3.2           1.3          0.2  Iris-setosa\n",
      "41           5.0          3.5           1.6          0.6  Iris-setosa\n",
      "42           5.1          3.8           1.9          0.4  Iris-setosa\n",
      "43           4.8          3.0           1.4          0.3  Iris-setosa\n",
      "44           5.1          3.8           1.6          0.2  Iris-setosa\n",
      "45           4.6          3.2           1.4          0.2  Iris-setosa\n",
      "46           5.3          3.7           1.5          0.2  Iris-setosa\n",
      "47           5.0          3.3           1.4          0.2  Iris-setosa\n"
     ]
    }
   ],
   "source": [
    "print(data[irisset])"
   ]
  },
  {
   "cell_type": "code",
   "execution_count": 77,
   "metadata": {},
   "outputs": [
    {
     "data": {
      "text/plain": [
       "<bound method DataFrame.mean of     sepal_length  sepal_width  petal_length  petal_width      species\n",
       "0            5.1          3.5           1.4          0.2  Iris-setosa\n",
       "1            4.7          3.2           1.3          0.2  Iris-setosa\n",
       "2            4.6          3.1           1.5          0.2  Iris-setosa\n",
       "3            5.0          3.6           1.4          0.2  Iris-setosa\n",
       "4            5.4          3.9           1.7          0.4  Iris-setosa\n",
       "5            4.6          3.4           1.4          0.3  Iris-setosa\n",
       "6            4.4          2.9           1.4          0.2  Iris-setosa\n",
       "7            4.9          3.1           1.5          0.1  Iris-setosa\n",
       "8            5.4          3.7           1.5          0.2  Iris-setosa\n",
       "9            4.8          3.4           1.6          0.2  Iris-setosa\n",
       "10           4.8          3.0           1.4          0.1  Iris-setosa\n",
       "11           4.3          3.0           1.1          0.1  Iris-setosa\n",
       "12           5.8          4.0           1.2          0.2  Iris-setosa\n",
       "13           5.7          4.4           1.5          0.4  Iris-setosa\n",
       "14           5.4          3.9           1.3          0.4  Iris-setosa\n",
       "15           5.1          3.5           1.4          0.3  Iris-setosa\n",
       "16           5.7          3.8           1.7          0.3  Iris-setosa\n",
       "17           5.1          3.8           1.5          0.3  Iris-setosa\n",
       "18           5.4          3.4           1.7          0.2  Iris-setosa\n",
       "19           5.1          3.7           1.5          0.4  Iris-setosa\n",
       "20           4.6          3.6           1.0          0.2  Iris-setosa\n",
       "21           5.1          3.3           1.7          0.5  Iris-setosa\n",
       "22           4.8          3.4           1.9          0.2  Iris-setosa\n",
       "23           5.0          3.0           1.6          0.2  Iris-setosa\n",
       "24           5.0          3.4           1.6          0.4  Iris-setosa\n",
       "25           5.2          3.5           1.5          0.2  Iris-setosa\n",
       "26           5.2          3.4           1.4          0.2  Iris-setosa\n",
       "27           4.7          3.2           1.6          0.2  Iris-setosa\n",
       "28           4.8          3.1           1.6          0.2  Iris-setosa\n",
       "29           5.4          3.4           1.5          0.4  Iris-setosa\n",
       "30           5.2          4.1           1.5          0.1  Iris-setosa\n",
       "31           5.5          4.2           1.4          0.2  Iris-setosa\n",
       "32           4.9          3.1           1.5          0.1  Iris-setosa\n",
       "33           5.0          3.2           1.2          0.2  Iris-setosa\n",
       "34           5.5          3.5           1.3          0.2  Iris-setosa\n",
       "35           4.9          3.1           1.5          0.1  Iris-setosa\n",
       "36           4.4          3.0           1.3          0.2  Iris-setosa\n",
       "37           5.1          3.4           1.5          0.2  Iris-setosa\n",
       "38           5.0          3.5           1.3          0.3  Iris-setosa\n",
       "39           4.5          2.3           1.3          0.3  Iris-setosa\n",
       "40           4.4          3.2           1.3          0.2  Iris-setosa\n",
       "41           5.0          3.5           1.6          0.6  Iris-setosa\n",
       "42           5.1          3.8           1.9          0.4  Iris-setosa\n",
       "43           4.8          3.0           1.4          0.3  Iris-setosa\n",
       "44           5.1          3.8           1.6          0.2  Iris-setosa\n",
       "45           4.6          3.2           1.4          0.2  Iris-setosa\n",
       "46           5.3          3.7           1.5          0.2  Iris-setosa\n",
       "47           5.0          3.3           1.4          0.2  Iris-setosa>"
      ]
     },
     "execution_count": 77,
     "metadata": {},
     "output_type": "execute_result"
    }
   ],
   "source": [
    "data[irisset].mean"
   ]
  },
  {
   "cell_type": "code",
   "execution_count": 79,
   "metadata": {},
   "outputs": [
    {
     "name": "stdout",
     "output_type": "stream",
     "text": [
      "       sepal_length  sepal_width  petal_length  petal_width\n",
      "count     48.000000    48.000000     48.000000    48.000000\n",
      "mean       5.008333     3.427083      1.464583     0.245833\n",
      "std        0.359570     0.384121      0.176839     0.109074\n",
      "min        4.300000     2.300000      1.000000     0.100000\n",
      "25%        4.800000     3.175000      1.400000     0.200000\n",
      "50%        5.000000     3.400000      1.500000     0.200000\n",
      "75%        5.200000     3.700000      1.600000     0.300000\n",
      "max        5.800000     4.400000      1.900000     0.600000\n"
     ]
    }
   ],
   "source": [
    "print(data[irisset].describe())"
   ]
  },
  {
   "cell_type": "code",
   "execution_count": 85,
   "metadata": {},
   "outputs": [
    {
     "ename": "NameError",
     "evalue": "name 'pltbar' is not defined",
     "output_type": "error",
     "traceback": [
      "\u001b[1;31m---------------------------------------------------------------------------\u001b[0m",
      "\u001b[1;31mNameError\u001b[0m                                 Traceback (most recent call last)",
      "Cell \u001b[1;32mIn[85], line 1\u001b[0m\n\u001b[1;32m----> 1\u001b[0m \u001b[43mpltbar\u001b[49m(irisset,inset1)\n",
      "\u001b[1;31mNameError\u001b[0m: name 'pltbar' is not defined"
     ]
    }
   ],
   "source": [
    "pltbar(irisset,irisset1)"
   ]
  },
  {
   "cell_type": "code",
   "execution_count": 81,
   "metadata": {},
   "outputs": [],
   "source": [
    "irisset=(data['species']=='Iris-virginica')\n"
   ]
  },
  {
   "cell_type": "code",
   "execution_count": 82,
   "metadata": {},
   "outputs": [
    {
     "name": "stdout",
     "output_type": "stream",
     "text": [
      "     sepal_length  sepal_width  petal_length  petal_width         species\n",
      "98            6.3          3.3           6.0          2.5  Iris-virginica\n",
      "99            5.8          2.7           5.1          1.9  Iris-virginica\n",
      "100           7.1          3.0           5.9          2.1  Iris-virginica\n",
      "101           6.3          2.9           5.6          1.8  Iris-virginica\n",
      "102           6.5          3.0           5.8          2.2  Iris-virginica\n",
      "103           7.6          3.0           6.6          2.1  Iris-virginica\n",
      "104           4.9          2.5           4.5          1.7  Iris-virginica\n",
      "105           7.3          2.9           6.3          1.8  Iris-virginica\n",
      "106           6.7          2.5           5.8          1.8  Iris-virginica\n",
      "107           7.2          3.6           6.1          2.5  Iris-virginica\n",
      "108           6.5          3.2           5.1          2.0  Iris-virginica\n",
      "109           6.4          2.7           5.3          1.9  Iris-virginica\n",
      "110           6.8          3.0           5.5          2.1  Iris-virginica\n",
      "111           5.7          2.5           5.0          2.0  Iris-virginica\n",
      "112           5.8          2.8           5.1          2.4  Iris-virginica\n",
      "113           6.4          3.2           5.3          2.3  Iris-virginica\n",
      "114           6.5          3.0           5.5          1.8  Iris-virginica\n",
      "115           7.7          3.8           6.7          2.2  Iris-virginica\n",
      "116           7.7          2.6           6.9          2.3  Iris-virginica\n",
      "117           6.0          2.2           5.0          1.5  Iris-virginica\n",
      "118           6.9          3.2           5.7          2.3  Iris-virginica\n",
      "119           5.6          2.8           4.9          2.0  Iris-virginica\n",
      "120           7.7          2.8           6.7          2.0  Iris-virginica\n",
      "121           6.3          2.7           4.9          1.8  Iris-virginica\n",
      "122           6.7          3.3           5.7          2.1  Iris-virginica\n",
      "123           7.2          3.2           6.0          1.8  Iris-virginica\n",
      "124           6.2          2.8           4.8          1.8  Iris-virginica\n",
      "125           6.1          3.0           4.9          1.8  Iris-virginica\n",
      "126           6.4          2.8           5.6          2.1  Iris-virginica\n",
      "127           7.2          3.0           5.8          1.6  Iris-virginica\n",
      "128           7.4          2.8           6.1          1.9  Iris-virginica\n",
      "129           7.9          3.8           6.4          2.0  Iris-virginica\n",
      "130           6.4          2.8           5.6          2.2  Iris-virginica\n",
      "131           6.3          2.8           5.1          1.5  Iris-virginica\n",
      "132           6.1          2.6           5.6          1.4  Iris-virginica\n",
      "133           7.7          3.0           6.1          2.3  Iris-virginica\n",
      "134           6.3          3.4           5.6          2.4  Iris-virginica\n",
      "135           6.4          3.1           5.5          1.8  Iris-virginica\n",
      "136           6.0          3.0           4.8          1.8  Iris-virginica\n",
      "137           6.9          3.1           5.4          2.1  Iris-virginica\n",
      "138           6.7          3.1           5.6          2.4  Iris-virginica\n",
      "139           6.9          3.1           5.1          2.3  Iris-virginica\n",
      "140           5.8          2.7           5.1          1.9  Iris-virginica\n",
      "141           6.8          3.2           5.9          2.3  Iris-virginica\n",
      "142           6.7          3.3           5.7          2.5  Iris-virginica\n",
      "143           6.7          3.0           5.2          2.3  Iris-virginica\n",
      "144           6.3          2.5           5.0          1.9  Iris-virginica\n",
      "145           6.5          3.0           5.2          2.0  Iris-virginica\n",
      "146           6.2          3.4           5.4          2.3  Iris-virginica\n",
      "147           5.9          3.0           5.1          1.8  Iris-virginica\n"
     ]
    }
   ],
   "source": [
    "print(data[irisset])\n"
   ]
  },
  {
   "cell_type": "code",
   "execution_count": 83,
   "metadata": {},
   "outputs": [
    {
     "name": "stdout",
     "output_type": "stream",
     "text": [
      "       sepal_length  sepal_width  petal_length  petal_width\n",
      "count      50.00000    50.000000     50.000000     50.00000\n",
      "mean        6.58800     2.974000      5.552000      2.02600\n",
      "std         0.63588     0.322497      0.551895      0.27465\n",
      "min         4.90000     2.200000      4.500000      1.40000\n",
      "25%         6.22500     2.800000      5.100000      1.80000\n",
      "50%         6.50000     3.000000      5.550000      2.00000\n",
      "75%         6.90000     3.175000      5.875000      2.30000\n",
      "max         7.90000     3.800000      6.900000      2.50000\n"
     ]
    }
   ],
   "source": [
    "print(data[irisset].describe())"
   ]
  }
 ],
 "metadata": {
  "kernelspec": {
   "display_name": "Python 3",
   "language": "python",
   "name": "python3"
  },
  "language_info": {
   "codemirror_mode": {
    "name": "ipython",
    "version": 3
   },
   "file_extension": ".py",
   "mimetype": "text/x-python",
   "name": "python",
   "nbconvert_exporter": "python",
   "pygments_lexer": "ipython3",
   "version": "3.11.7"
  }
 },
 "nbformat": 4,
 "nbformat_minor": 2
}
